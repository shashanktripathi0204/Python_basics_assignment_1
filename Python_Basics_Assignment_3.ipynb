{
 "cells": [
  {
   "cell_type": "markdown",
   "id": "4d078b87-e364-4782-ad5a-163b44d8ce1e",
   "metadata": {},
   "source": [
    "# Q1"
   ]
  },
  {
   "cell_type": "code",
   "execution_count": null,
   "id": "ff1e4d1d-a22c-44cf-a934-1469f54e5e1f",
   "metadata": {},
   "outputs": [],
   "source": [
    "1 It helps to divide the large programs into small parts\n",
    "\n",
    "2 we dont write same logic ywice\n",
    "\n",
    "3 we can pass different input to the same function multipletimes\n",
    "\n",
    "4 code reusability\n"
   ]
  },
  {
   "cell_type": "markdown",
   "id": "debcb8a1-f9d5-437e-aa1c-fdb5952dd83c",
   "metadata": {},
   "source": [
    "# Q2"
   ]
  },
  {
   "cell_type": "code",
   "execution_count": null,
   "id": "fc2e2823-8343-41f6-8575-eac2cef7f99c",
   "metadata": {},
   "outputs": [],
   "source": [
    "a code in a function runs when a call is made to the function"
   ]
  },
  {
   "cell_type": "markdown",
   "id": "83672f1f-4590-4731-8b89-9ce49dd51278",
   "metadata": {
    "tags": []
   },
   "source": [
    "# Q3"
   ]
  },
  {
   "cell_type": "code",
   "execution_count": null,
   "id": "d0be90d9-bc94-4b6a-8eb3-d875d6218d5f",
   "metadata": {},
   "outputs": [],
   "source": [
    "def is used to create a fucnction:\n",
    "\n",
    "example:-\n",
    " def fun_name(var1,var2):\n",
    "        pass"
   ]
  },
  {
   "cell_type": "markdown",
   "id": "2bffcac2-e9e6-48cd-9949-4c7ca410a590",
   "metadata": {},
   "source": [
    "# Q4"
   ]
  },
  {
   "cell_type": "code",
   "execution_count": null,
   "id": "3a9f77d2-5d50-4971-996c-fbd77ef95648",
   "metadata": {},
   "outputs": [],
   "source": [
    "a function is a set of code that is written for a apecific pirpose keeping in mid the code reusaibility aspect\n",
    "\n",
    "function call is the way we we can execute a function"
   ]
  },
  {
   "cell_type": "markdown",
   "id": "7d9ac3aa-fcb7-4cd1-b10b-9c37a55b9de4",
   "metadata": {},
   "source": [
    "# Q5"
   ]
  },
  {
   "cell_type": "code",
   "execution_count": null,
   "id": "80bd6aef-104c-45c5-aae5-b97f6797476f",
   "metadata": {},
   "outputs": [],
   "source": [
    "there is only 1 global scope in python\n",
    "\n",
    "there can as many local scopes as there are function,forloop etc in python"
   ]
  },
  {
   "cell_type": "markdown",
   "id": "8f0ffdb5-e2aa-4d62-9b62-a35d34acb11e",
   "metadata": {},
   "source": [
    "# Q6"
   ]
  },
  {
   "cell_type": "code",
   "execution_count": null,
   "id": "c535c6d3-0dff-46df-93f0-7c5e66a16ba0",
   "metadata": {},
   "outputs": [],
   "source": [
    "A local variable value does not change until next fucntion call"
   ]
  },
  {
   "cell_type": "markdown",
   "id": "ecd98e48-dd19-4a23-89a3-89259de56ed9",
   "metadata": {},
   "source": [
    "# Q7"
   ]
  },
  {
   "cell_type": "code",
   "execution_count": null,
   "id": "4210e911-ffcd-4084-a7eb-0d76607624fa",
   "metadata": {},
   "outputs": [],
   "source": [
    "return value is used to give back the user the finalresult of the function\n",
    "yes it is possible"
   ]
  },
  {
   "cell_type": "markdown",
   "id": "1e66d42e-dcb4-4462-be61-4185b36c6a8c",
   "metadata": {},
   "source": [
    "# Q8"
   ]
  },
  {
   "cell_type": "code",
   "execution_count": null,
   "id": "1fe50f16-9ae8-4882-aa85-c46c7700abf0",
   "metadata": {},
   "outputs": [],
   "source": [
    "If a function does not have a return statement,  then return value of a call to that function is undefined"
   ]
  },
  {
   "cell_type": "markdown",
   "id": "d08850dc-8b4a-4423-a7bb-0ef901e1385a",
   "metadata": {},
   "source": [
    "# Q9"
   ]
  },
  {
   "cell_type": "code",
   "execution_count": null,
   "id": "695b462f-d658-40d9-a7da-16f50d77943b",
   "metadata": {},
   "outputs": [],
   "source": [
    "we can use global keyword\n",
    "\n",
    "ex:-\n",
    "\n",
    "a = 1\n",
    "\n",
    "def changevalue():\n",
    "    global a\n",
    "    a = 10\n",
    "changevalue()\n",
    "\n",
    "print(a)"
   ]
  },
  {
   "cell_type": "markdown",
   "id": "674da68c-354d-474d-9286-6d6298899f61",
   "metadata": {},
   "source": [
    "# Q10"
   ]
  },
  {
   "cell_type": "code",
   "execution_count": null,
   "id": "e6532aa3-1b40-48e0-9065-088c52512238",
   "metadata": {},
   "outputs": [],
   "source": [
    "None keyword is an object and is data type of none type class"
   ]
  },
  {
   "cell_type": "markdown",
   "id": "1d40c180-1d0b-446d-8872-e6f12e168c51",
   "metadata": {},
   "source": [
    "# Q11"
   ]
  },
  {
   "cell_type": "code",
   "execution_count": null,
   "id": "dd8e547a-679a-4b84-aa28-31acbde11453",
   "metadata": {},
   "outputs": [],
   "source": [
    "import areallyourpetsnamederic\n",
    "\n",
    "it will import the module named --> areallyourpetsnamederic and allthe functions inside the module\n"
   ]
  },
  {
   "cell_type": "markdown",
   "id": "9a92b9b2-1b95-4e68-8c22-6044cf079c6b",
   "metadata": {},
   "source": [
    "# Q12"
   ]
  },
  {
   "cell_type": "code",
   "execution_count": null,
   "id": "1a924be7-1e38-411e-89b0-4d42170cbb6d",
   "metadata": {},
   "outputs": [],
   "source": [
    "from spam import bacon"
   ]
  },
  {
   "cell_type": "markdown",
   "id": "4fdea4c0-8487-4fcf-be35-8e20edaed6d1",
   "metadata": {},
   "source": [
    "# Q13"
   ]
  },
  {
   "cell_type": "code",
   "execution_count": null,
   "id": "40366add-f8cf-4552-890b-42be4588a1a2",
   "metadata": {},
   "outputs": [],
   "source": [
    "we can use try and except block"
   ]
  },
  {
   "cell_type": "markdown",
   "id": "1f911d45-c477-4a08-ad67-972f3767a9f0",
   "metadata": {},
   "source": [
    "# Q14"
   ]
  },
  {
   "cell_type": "code",
   "execution_count": null,
   "id": "a8afaa3d-c29d-4504-8ad9-4ee33dc8b85b",
   "metadata": {},
   "outputs": [],
   "source": [
    "The try clause in Python is used to enclose a block of code that might throw an exception. \n",
    "The except clause is used to specify one or more actions to be taken if an exception is raised during the execution of the try block.\n",
    "\n",
    "try:\n",
    "    # some code that might throw an exception\n",
    "except Exception:\n",
    "    # code to handle the exception\n"
   ]
  }
 ],
 "metadata": {
  "kernelspec": {
   "display_name": "Python 3 (ipykernel)",
   "language": "python",
   "name": "python3"
  },
  "language_info": {
   "codemirror_mode": {
    "name": "ipython",
    "version": 3
   },
   "file_extension": ".py",
   "mimetype": "text/x-python",
   "name": "python",
   "nbconvert_exporter": "python",
   "pygments_lexer": "ipython3",
   "version": "3.10.6"
  }
 },
 "nbformat": 4,
 "nbformat_minor": 5
}
