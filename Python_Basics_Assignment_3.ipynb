{
 "cells": [
  {
   "cell_type": "markdown",
   "id": "4d078b87-e364-4782-ad5a-163b44d8ce1e",
   "metadata": {},
   "source": [
    "# Q1"
   ]
  },
  {
   "cell_type": "raw",
   "id": "a347e10d-f31c-432b-a1c2-939a62fa75fd",
   "metadata": {},
   "source": [
    "1 It helps to divide the large programs into small parts\n",
    "\n",
    "2 we dont write same logic ywice\n",
    "\n",
    "3 we can pass different input to the same function multipletimes\n",
    "\n",
    "4 code reusability\n"
   ]
  },
  {
   "cell_type": "markdown",
   "id": "debcb8a1-f9d5-437e-aa1c-fdb5952dd83c",
   "metadata": {},
   "source": [
    "# Q2"
   ]
  },
  {
   "cell_type": "raw",
   "id": "8095dba6-96ee-4d3c-8527-3232a7706794",
   "metadata": {},
   "source": [
    "a code in a function runs when a call is made to the function"
   ]
  },
  {
   "cell_type": "markdown",
   "id": "83672f1f-4590-4731-8b89-9ce49dd51278",
   "metadata": {},
   "source": [
    "# Q3"
   ]
  },
  {
   "cell_type": "raw",
   "id": "6ba79ed3-8cea-46bc-a9d6-0e6f5dbee821",
   "metadata": {},
   "source": [
    "def is used to create a fucnction:\n",
    "\n",
    "example:-\n",
    " def fun_name(var1,var2):\n",
    "        pass"
   ]
  },
  {
   "cell_type": "markdown",
   "id": "2bffcac2-e9e6-48cd-9949-4c7ca410a590",
   "metadata": {},
   "source": [
    "# Q4"
   ]
  },
  {
   "cell_type": "raw",
   "id": "0f4aa9b6-eade-48c8-890f-aaa3305092dc",
   "metadata": {},
   "source": [
    "a function is a set of code that is written for a apecific pirpose keeping in mid the code reusaibility aspect\n",
    "\n",
    "function call is the way we we can execute a function"
   ]
  },
  {
   "cell_type": "markdown",
   "id": "7d9ac3aa-fcb7-4cd1-b10b-9c37a55b9de4",
   "metadata": {},
   "source": [
    "# Q5"
   ]
  },
  {
   "cell_type": "raw",
   "id": "381d208f-5ad2-477f-9624-a5b6505c1106",
   "metadata": {},
   "source": [
    "there is only 1 global scope in python\n",
    "\n",
    "there can as many local scopes as there are function,forloop etc in python"
   ]
  },
  {
   "cell_type": "markdown",
   "id": "8f0ffdb5-e2aa-4d62-9b62-a35d34acb11e",
   "metadata": {},
   "source": [
    "# Q6"
   ]
  },
  {
   "cell_type": "raw",
   "id": "6ea581b5-822a-473e-8a5e-10be3a7ef9ba",
   "metadata": {},
   "source": [
    "A local variable value does not change until next fucntion call"
   ]
  },
  {
   "cell_type": "markdown",
   "id": "ecd98e48-dd19-4a23-89a3-89259de56ed9",
   "metadata": {},
   "source": [
    "# Q7"
   ]
  },
  {
   "cell_type": "raw",
   "id": "583c59d6-2a72-4d3c-9157-cfdb54d62ebb",
   "metadata": {},
   "source": [
    "return value is used to give back the user the finalresult of the function\n",
    "yes it is possible"
   ]
  },
  {
   "cell_type": "markdown",
   "id": "1e66d42e-dcb4-4462-be61-4185b36c6a8c",
   "metadata": {},
   "source": [
    "# Q8"
   ]
  },
  {
   "cell_type": "raw",
   "id": "736ad74f-e952-4a5f-99ec-f256d8ee1c92",
   "metadata": {},
   "source": [
    "If a function does not have a return statement,  then return value of a call to that function is undefined"
   ]
  },
  {
   "cell_type": "markdown",
   "id": "d08850dc-8b4a-4423-a7bb-0ef901e1385a",
   "metadata": {},
   "source": [
    "# Q9"
   ]
  },
  {
   "cell_type": "raw",
   "id": "35f6e068-99e9-4004-b287-b6bdbc650fcf",
   "metadata": {},
   "source": [
    "we can use global keyword\n",
    "\n",
    "ex:-\n",
    "\n",
    "a = 1\n",
    "\n",
    "def changevalue():\n",
    "    global a\n",
    "    a = 10\n",
    "changevalue()\n",
    "\n",
    "print(a)"
   ]
  },
  {
   "cell_type": "markdown",
   "id": "674da68c-354d-474d-9286-6d6298899f61",
   "metadata": {},
   "source": [
    "# Q10"
   ]
  },
  {
   "cell_type": "raw",
   "id": "b3e70216-6f19-4240-818f-e63e3387460d",
   "metadata": {},
   "source": [
    "None keyword is an object and is data type of none type class"
   ]
  },
  {
   "cell_type": "markdown",
   "id": "1d40c180-1d0b-446d-8872-e6f12e168c51",
   "metadata": {},
   "source": [
    "# Q11"
   ]
  },
  {
   "cell_type": "raw",
   "id": "027bc996-fa5c-4ee2-b130-09277654ef5a",
   "metadata": {},
   "source": [
    "import areallyourpetsnamederic\n",
    "\n",
    "it will import the module named --> areallyourpetsnamederic and allthe functions inside the module\n"
   ]
  },
  {
   "cell_type": "markdown",
   "id": "9a92b9b2-1b95-4e68-8c22-6044cf079c6b",
   "metadata": {},
   "source": [
    "# Q12"
   ]
  },
  {
   "cell_type": "raw",
   "id": "5b75bba7-2e82-4ea5-b5aa-6ae3358edce8",
   "metadata": {},
   "source": [
    "from spam import bacon"
   ]
  },
  {
   "cell_type": "markdown",
   "id": "4fdea4c0-8487-4fcf-be35-8e20edaed6d1",
   "metadata": {},
   "source": [
    "# Q13"
   ]
  },
  {
   "cell_type": "raw",
   "id": "84fd2923-b808-4800-a147-72601ca72443",
   "metadata": {},
   "source": [
    "we can use try and except block"
   ]
  },
  {
   "cell_type": "markdown",
   "id": "1f911d45-c477-4a08-ad67-972f3767a9f0",
   "metadata": {},
   "source": [
    "# Q14"
   ]
  },
  {
   "cell_type": "raw",
   "id": "1e76409c-ed42-47ca-9c0a-88020bc437c8",
   "metadata": {},
   "source": [
    "The try clause in Python is used to enclose a block of code that might throw an exception. \n",
    "The except clause is used to specify one or more actions to be taken if an exception is raised during the execution of the try block.\n",
    "\n",
    "try:\n",
    "    # some code that might throw an exception\n",
    "except Exception:\n",
    "    # code to handle the exception\n"
   ]
  }
 ],
 "metadata": {
  "kernelspec": {
   "display_name": "Python 3 (ipykernel)",
   "language": "python",
   "name": "python3"
  },
  "language_info": {
   "codemirror_mode": {
    "name": "ipython",
    "version": 3
   },
   "file_extension": ".py",
   "mimetype": "text/x-python",
   "name": "python",
   "nbconvert_exporter": "python",
   "pygments_lexer": "ipython3",
   "version": "3.10.6"
  }
 },
 "nbformat": 4,
 "nbformat_minor": 5
}
