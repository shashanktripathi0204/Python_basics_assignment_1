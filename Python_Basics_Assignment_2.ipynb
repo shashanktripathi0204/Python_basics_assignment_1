{
 "cells": [
  {
   "cell_type": "markdown",
   "id": "19c92176-d6b5-4288-852b-f360f1f69efb",
   "metadata": {},
   "source": [
    "# Q1"
   ]
  },
  {
   "cell_type": "code",
   "execution_count": null,
   "id": "23033b8a-8861-4a0e-b6ae-23c1460f392e",
   "metadata": {},
   "outputs": [],
   "source": [
    "True ,  False"
   ]
  },
  {
   "cell_type": "markdown",
   "id": "bc0ed263-115b-41ff-9b06-03d1b3866065",
   "metadata": {},
   "source": [
    "# Q2"
   ]
  },
  {
   "cell_type": "code",
   "execution_count": null,
   "id": "a83ec5af-33d6-4597-9d31-65eb65d665d7",
   "metadata": {},
   "outputs": [],
   "source": [
    "# different type of boolean operatora are as follows\n",
    "\n",
    "==\n",
    "!=\n",
    ">\n",
    "<\n",
    ">=\n",
    "<=\n",
    "and \n",
    "or \n",
    "not\n"
   ]
  },
  {
   "cell_type": "markdown",
   "id": "37cd4fe0-694f-469d-be7a-2934e9baac24",
   "metadata": {},
   "source": [
    "# Q3"
   ]
  },
  {
   "cell_type": "code",
   "execution_count": null,
   "id": "5b8c4a12-ec95-4142-b8f3-5c44bf00f030",
   "metadata": {},
   "outputs": [],
   "source": [
    "a b and\n",
    "1 1 1\n",
    "1 0 0\n",
    "0 1 0\n",
    "0 0 0\n",
    "\n",
    "\n",
    "a b or\n",
    "1 1 1\n",
    "1 0 1\n",
    "0 1 1\n",
    "0 0 0\n",
    "\n",
    "a not(a)\n",
    "\n",
    "1 0\n",
    "0 1"
   ]
  },
  {
   "cell_type": "markdown",
   "id": "870e9f1b-2eac-4ea9-9d63-96c4f6b97e55",
   "metadata": {},
   "source": [
    "# Q4"
   ]
  },
  {
   "cell_type": "code",
   "execution_count": null,
   "id": "b77738f3-d085-47f1-a0a5-146b6c803ddd",
   "metadata": {},
   "outputs": [],
   "source": [
    "(5>4) and (3==5) -- false\n",
    "\n",
    "not (5>4) -- false\n",
    "\n",
    "(5 > 4) or (3 == 5) -- true\n",
    "\n",
    "not ((5> 4) or (3 == 5)) --false\n",
    "\n",
    "(True and True) and (True == False) -- false\n",
    "\n",
    "(not False) or (not True) -- true"
   ]
  },
  {
   "cell_type": "markdown",
   "id": "5b88d3fc-9513-454f-9a1e-977cf5c512f9",
   "metadata": {},
   "source": [
    "# Q5"
   ]
  },
  {
   "cell_type": "code",
   "execution_count": null,
   "id": "ab95ddf1-d4ea-48b1-8949-e2c04b10dc5e",
   "metadata": {},
   "outputs": [],
   "source": [
    ">\n",
    "<\n",
    "==\n",
    "<=\n",
    ">=\n",
    "!="
   ]
  },
  {
   "cell_type": "markdown",
   "id": "30c5e815-f96d-4d5b-875d-81e7b255c3e2",
   "metadata": {},
   "source": [
    "# Q6"
   ]
  },
  {
   "cell_type": "code",
   "execution_count": null,
   "id": "1901aac8-1b36-44a3-aa2a-923ad4cc090c",
   "metadata": {},
   "outputs": [],
   "source": [
    "== equal to operator --> helps us to check if the values are eqoal\n",
    "\n",
    "= assignment is used to set the value of a variable"
   ]
  },
  {
   "cell_type": "markdown",
   "id": "924c057d-3484-4229-bfdf-f859f42d119f",
   "metadata": {},
   "source": [
    "# Q7"
   ]
  },
  {
   "cell_type": "code",
   "execution_count": null,
   "id": "460b6de3-603e-42ed-8ba1-c932637c65d6",
   "metadata": {},
   "outputs": [],
   "source": [
    "\n",
    "spam = 0 --- 1st block\n",
    "----------\n",
    "if spam == 10:--- 2nd block\n",
    "print('eggs')\n",
    "\n",
    "------------------\n",
    "if spam > 5: --- 3rd block\n",
    "print('bacon')\n",
    "else:\n",
    "print('ham')\n",
    "print('spam')\n",
    "print('spam')\n",
    "----------------"
   ]
  },
  {
   "cell_type": "markdown",
   "id": "bcb36669-fa0f-48ed-8a49-bfbd3948ed73",
   "metadata": {},
   "source": [
    "# Q8"
   ]
  },
  {
   "cell_type": "code",
   "execution_count": 20,
   "id": "ccb2a9eb-5d55-45ae-9c7a-3489a3a4112c",
   "metadata": {},
   "outputs": [
    {
     "name": "stdin",
     "output_type": "stream",
     "text": [
      "enter int o\n"
     ]
    },
    {
     "name": "stdout",
     "output_type": "stream",
     "text": [
      "Kya kar raha hai bhai int value dalni hai prit me likha hai re-enter\n"
     ]
    },
    {
     "name": "stdin",
     "output_type": "stream",
     "text": [
      "enter int 6\n"
     ]
    },
    {
     "name": "stdout",
     "output_type": "stream",
     "text": [
      "Greetings!\n"
     ]
    }
   ],
   "source": [
    "flag = True\n",
    "\n",
    "while(flag):\n",
    "    try:\n",
    "        spam = int(input('enter int'))\n",
    "        if(spam == 1):\n",
    "            print('Hello')\n",
    "        elif(spam == 2):\n",
    "            print('Howdy')\n",
    "        else:\n",
    "            print('Greetings!')\n",
    "        flag = False\n",
    "    except ValueError:\n",
    "        print('Kya kar raha hai bhai int value dalni hai prit me likha hai re-enter')\n",
    "\n",
    "\n",
    "        "
   ]
  },
  {
   "cell_type": "markdown",
   "id": "b3fefc01-e6ee-4745-b5a8-e0ca775079ff",
   "metadata": {},
   "source": [
    "# Q9"
   ]
  },
  {
   "cell_type": "code",
   "execution_count": null,
   "id": "1ea6f28d-798b-4afd-b57e-d0bdaacad915",
   "metadata": {},
   "outputs": [],
   "source": [
    "ctrl + c"
   ]
  },
  {
   "cell_type": "markdown",
   "id": "d061fa31-ec6c-4bf1-bbec-74f24ed482e4",
   "metadata": {},
   "source": [
    "# Q10"
   ]
  },
  {
   "cell_type": "code",
   "execution_count": null,
   "id": "bf07f853-6107-43e7-af23-fd16ad0b3afd",
   "metadata": {},
   "outputs": [],
   "source": [
    "break will cause to exit the loop even if 100 iteration are left\n",
    "\n",
    "continue will skip the next iteration"
   ]
  },
  {
   "cell_type": "markdown",
   "id": "49e28c35-7552-47f2-a3c2-c0cc10fdc1c5",
   "metadata": {},
   "source": [
    "# Q11"
   ]
  },
  {
   "cell_type": "code",
   "execution_count": null,
   "id": "69de78da-2cc0-4bfb-bddb-30e9fdb07150",
   "metadata": {},
   "outputs": [],
   "source": [
    "there is no difference"
   ]
  },
  {
   "cell_type": "markdown",
   "id": "16b687b5-2150-4571-bfe8-c37e8cef0fe3",
   "metadata": {},
   "source": [
    "# Q12"
   ]
  },
  {
   "cell_type": "code",
   "execution_count": 24,
   "id": "029f3d27-d385-4dc8-ac58-4e831ea2129b",
   "metadata": {},
   "outputs": [
    {
     "name": "stdout",
     "output_type": "stream",
     "text": [
      "0\n",
      "1\n",
      "2\n",
      "3\n",
      "4\n",
      "5\n",
      "6\n",
      "7\n",
      "8\n",
      "9\n",
      "10\n"
     ]
    }
   ],
   "source": [
    "for i in range(11):\n",
    "    print(i)"
   ]
  },
  {
   "cell_type": "code",
   "execution_count": 25,
   "id": "204bd1ce-1a0f-4f1d-aba1-229e89de9469",
   "metadata": {},
   "outputs": [
    {
     "name": "stdout",
     "output_type": "stream",
     "text": [
      "1\n",
      "2\n",
      "3\n",
      "4\n",
      "5\n",
      "6\n",
      "7\n",
      "8\n",
      "9\n",
      "10\n"
     ]
    }
   ],
   "source": [
    "spam = 11\n",
    "i = 1\n",
    "while(i < spam):\n",
    "    print(i)\n",
    "    i = i + 1"
   ]
  },
  {
   "cell_type": "markdown",
   "id": "b4554b40-c3c9-46e8-a0de-7d06f55c23e6",
   "metadata": {},
   "source": [
    "# Q13"
   ]
  },
  {
   "cell_type": "code",
   "execution_count": null,
   "id": "b7ba72ed-02ba-43d0-a2cd-e9e8217c1b0d",
   "metadata": {},
   "outputs": [],
   "source": [
    "import spam\n",
    "\n",
    "x.bacon()"
   ]
  },
  {
   "cell_type": "code",
   "execution_count": null,
   "id": "fc7e580f-7e43-4c98-b8e8-35d41a1cf3e7",
   "metadata": {},
   "outputs": [],
   "source": []
  },
  {
   "cell_type": "code",
   "execution_count": null,
   "id": "d99e73fc-eb4c-4bdb-81fb-3ae8145d10c3",
   "metadata": {},
   "outputs": [],
   "source": []
  },
  {
   "cell_type": "code",
   "execution_count": null,
   "id": "c2471f7e-8bbd-402e-960b-9b86268402a2",
   "metadata": {},
   "outputs": [],
   "source": []
  },
  {
   "cell_type": "code",
   "execution_count": null,
   "id": "729597c7-98f5-4654-a865-37f74f0e6437",
   "metadata": {},
   "outputs": [],
   "source": []
  },
  {
   "cell_type": "code",
   "execution_count": null,
   "id": "2470551d-38d3-4350-9fff-890b836490db",
   "metadata": {},
   "outputs": [],
   "source": []
  },
  {
   "cell_type": "code",
   "execution_count": null,
   "id": "904ea802-8f81-4980-bd1c-39306d0203e6",
   "metadata": {},
   "outputs": [],
   "source": []
  },
  {
   "cell_type": "code",
   "execution_count": null,
   "id": "c1cebe19-a79d-4d63-8cc4-dec3059b8e4f",
   "metadata": {},
   "outputs": [],
   "source": []
  },
  {
   "cell_type": "code",
   "execution_count": null,
   "id": "146771ac-280a-478f-be4f-18d07ffeca5c",
   "metadata": {},
   "outputs": [],
   "source": []
  },
  {
   "cell_type": "code",
   "execution_count": null,
   "id": "9fa63fba-e55a-45ea-ac8c-5c7e66ddbc4e",
   "metadata": {},
   "outputs": [],
   "source": []
  },
  {
   "cell_type": "code",
   "execution_count": null,
   "id": "75ee70a9-00ed-4ab3-90fc-ec4bedeca900",
   "metadata": {},
   "outputs": [],
   "source": []
  },
  {
   "cell_type": "code",
   "execution_count": null,
   "id": "084ff328-430d-414d-ab41-eecfd296c415",
   "metadata": {},
   "outputs": [],
   "source": []
  },
  {
   "cell_type": "code",
   "execution_count": null,
   "id": "2e0569a7-5a47-45c4-99c6-b19ce0ed5b3b",
   "metadata": {},
   "outputs": [],
   "source": []
  },
  {
   "cell_type": "code",
   "execution_count": null,
   "id": "5b8fe176-c6cf-49ba-afc1-483a672592fc",
   "metadata": {},
   "outputs": [],
   "source": []
  },
  {
   "cell_type": "code",
   "execution_count": null,
   "id": "d4d400f7-e409-49c0-97a6-2729f429ae23",
   "metadata": {},
   "outputs": [],
   "source": []
  },
  {
   "cell_type": "code",
   "execution_count": null,
   "id": "416ee30d-e4c3-4250-aff5-1bd74b242b39",
   "metadata": {},
   "outputs": [],
   "source": []
  },
  {
   "cell_type": "code",
   "execution_count": null,
   "id": "4e218eb0-a2dc-41eb-9897-48786a85a503",
   "metadata": {},
   "outputs": [],
   "source": []
  },
  {
   "cell_type": "code",
   "execution_count": null,
   "id": "c4464347-77b3-4eb3-9ba4-5bfdd9646485",
   "metadata": {},
   "outputs": [],
   "source": []
  },
  {
   "cell_type": "code",
   "execution_count": null,
   "id": "37422421-67f4-49e8-ac9a-1adb0d13ee29",
   "metadata": {},
   "outputs": [],
   "source": []
  },
  {
   "cell_type": "code",
   "execution_count": null,
   "id": "f0cb7208-b861-4869-a36c-6aeb1681fb4f",
   "metadata": {},
   "outputs": [],
   "source": []
  }
 ],
 "metadata": {
  "kernelspec": {
   "display_name": "Python 3 (ipykernel)",
   "language": "python",
   "name": "python3"
  },
  "language_info": {
   "codemirror_mode": {
    "name": "ipython",
    "version": 3
   },
   "file_extension": ".py",
   "mimetype": "text/x-python",
   "name": "python",
   "nbconvert_exporter": "python",
   "pygments_lexer": "ipython3",
   "version": "3.10.6"
  }
 },
 "nbformat": 4,
 "nbformat_minor": 5
}
