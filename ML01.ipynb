{
 "cells": [
  {
   "attachments": {},
   "cell_type": "markdown",
   "metadata": {},
   "source": [
    "# Q1"
   ]
  },
  {
   "attachments": {},
   "cell_type": "markdown",
   "metadata": {},
   "source": [
    "Machine Learning is teaching a computer to learn and make descisions by itself, without human intervention.\n",
    "\n",
    "Machine learning algorithim learn from data and make predicitions example recognize cats from dogs"
   ]
  },
  {
   "attachments": {},
   "cell_type": "markdown",
   "metadata": {},
   "source": [
    "# Q2"
   ]
  },
  {
   "attachments": {},
   "cell_type": "markdown",
   "metadata": {},
   "source": [
    "Machine learning can be used to recognize images and speech.\n",
    "Machine learning can be used to understand and generate human language.\n",
    "Machine learning can be used to make predictions based on data.\n",
    "Machine learning can be used to identify unusual events or behaviors."
   ]
  },
  {
   "attachments": {},
   "cell_type": "markdown",
   "metadata": {},
   "source": [
    "# Q3"
   ]
  },
  {
   "attachments": {},
   "cell_type": "markdown",
   "metadata": {},
   "source": [
    "Labled training is set of collection of examples used to train ML algo to make predicitions\n",
    "\n",
    "in lable trainig each example is marked with a value or a class that the ML model has to predict based on the provided data, this is\n",
    "done by figuring out pattern and relations in the data and then using it to predict the class."
   ]
  },
  {
   "attachments": {},
   "cell_type": "markdown",
   "metadata": {},
   "source": [
    "# Q4\n",
    "\n",
    "\n",
    "Classification\n",
    "\n",
    "Regression\n"
   ]
  },
  {
   "attachments": {},
   "cell_type": "markdown",
   "metadata": {},
   "source": [
    "# Q5\n",
    "\n",
    "\n",
    "Clustering \n",
    "\n",
    "Anomoly detection\n",
    "\n",
    "Dimensionality reduction\n",
    "\n",
    "Association rule mining"
   ]
  },
  {
   "attachments": {},
   "cell_type": "markdown",
   "metadata": {},
   "source": [
    "# Q6\n",
    "\n",
    "\n",
    "Reinforcement Learning"
   ]
  },
  {
   "attachments": {},
   "cell_type": "markdown",
   "metadata": {},
   "source": [
    "# Q7\n",
    "\n",
    "\n",
    "unsupervised learning - Clustering"
   ]
  },
  {
   "attachments": {},
   "cell_type": "markdown",
   "metadata": {},
   "source": [
    "# Q8\n",
    "\n",
    "\n",
    "Supervised"
   ]
  },
  {
   "attachments": {},
   "cell_type": "markdown",
   "metadata": {},
   "source": [
    "# Q9\n",
    "\n",
    "\n",
    "online learning Systems are Models that continuously learn as new data is fed into them i.e. on  the fly, they are different from the\n",
    "the batch trained model that are trained on static data.\n",
    "\n",
    "Online model updates its data on the fly as new data is fed."
   ]
  },
  {
   "attachments": {},
   "cell_type": "markdown",
   "metadata": {},
   "source": [
    "# Q10\n",
    "\n",
    "Out of core learning is used when the amount of data is very large.\n",
    "in this the the data is divided into batches and the model is incrementally trained on the the batches one after the another\n",
    "\n",
    "Core Learning is used when the size of the data is small."
   ]
  },
  {
   "attachments": {},
   "cell_type": "markdown",
   "metadata": {},
   "source": [
    "# Q11\n",
    "\n",
    "Instance based learning--\n",
    "\n",
    "In this the model makes predictions based on the similarity between the new input and the exesting data.\n",
    "It does not try to learn new pattern from the data, it compares new input to exesting examples to to make predicitons\n",
    "It uses a measure of how similar two things are to decide which previous example is similar to the new input\n",
    "\n",
    "example:- predicting gener of a movie based on its plot\n",
    "recommendng a song based on the listining histpry of user\n"
   ]
  },
  {
   "attachments": {},
   "cell_type": "markdown",
   "metadata": {},
   "source": [
    "# Q12\n",
    "\n",
    "\n",
    "Model paramter are values that are learned by the model during training. These parameters define the structure of the model and are used to make predicitions on new data. example weights in equation\n",
    "They are minimised to reduce the error between predicted and the actual value\n",
    "\n",
    "\n",
    "Hyper parameter are the values that are setby the user for example learning rate that will determin how the model parameter value will chamhe"
   ]
  },
  {
   "attachments": {},
   "cell_type": "markdown",
   "metadata": {},
   "source": [
    "# Q13\n",
    "\n",
    "Model based learning algo try to learn a formula that predicts the output based on the input. They look for the formulaes that fit the data well\n",
    "To make predictions on new data, the model-based learning algorithm applies the learned model to the input features and generates a prediction for the output variable. "
   ]
  },
  {
   "attachments": {},
   "cell_type": "markdown",
   "metadata": {},
   "source": [
    "# Q14\n",
    "\n",
    "Overfitting\n",
    "\n",
    "Data Quality\n",
    "\n",
    "interpretability - we are not ablt to understand how the code is predicting values\n",
    "\n",
    "Scalability"
   ]
  },
  {
   "attachments": {},
   "cell_type": "markdown",
   "metadata": {},
   "source": [
    "# Q15\n",
    "\n",
    "This wil result in overfitting\n",
    "\n",
    "Overfitting can be avoided by:-\n",
    "\n",
    "collect more data\n",
    "\n",
    "Regularization\n",
    "\n",
    "Cross validation\n"
   ]
  },
  {
   "attachments": {},
   "cell_type": "markdown",
   "metadata": {},
   "source": [
    " # Q16\n",
    "\n",
    " Test set is need to check the accuracy of the trained model on the data it has never scene before\n",
    " "
   ]
  },
  {
   "attachments": {},
   "cell_type": "markdown",
   "metadata": {},
   "source": [
    "# Q17\n",
    "\n",
    "The purpose of validation set is check the accuracy of the model during the training phase and avoid overfitting\n",
    "\n"
   ]
  },
  {
   "attachments": {},
   "cell_type": "markdown",
   "metadata": {},
   "source": [
    "# Q18\n",
    "\n",
    "The train-dev kit is a subset of the training data that is set aside for evaluating model performance during the development phase. It is created by splitting the original training set into two parts: the train-dev set and the cross-validation (CV) set"
   ]
  },
  {
   "attachments": {},
   "cell_type": "markdown",
   "metadata": {},
   "source": [
    "# Q19\n",
    "\n",
    "It will lead to overfitting"
   ]
  },
  {
   "attachments": {},
   "cell_type": "markdown",
   "metadata": {},
   "source": []
  }
 ],
 "metadata": {
  "language_info": {
   "name": "python"
  },
  "orig_nbformat": 4
 },
 "nbformat": 4,
 "nbformat_minor": 2
}
