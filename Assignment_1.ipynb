{
 "cells": [
  {
   "cell_type": "markdown",
   "id": "1fce1629-78be-44c9-b3d9-fddf60e78ca9",
   "metadata": {},
   "source": [
    "# Q1"
   ]
  },
  {
   "cell_type": "raw",
   "id": "b7cb92f9-f1bd-43cb-8056-6456c30e2f8d",
   "metadata": {},
   "source": [
    "* ----> expression\n",
    "\n",
    "'hello' ----> string\n",
    "\n",
    "-87.8 ----->decimal\n",
    "\n",
    "- ----->expression\n",
    "\n",
    "/ ------>expression\n",
    "\n",
    "+ -------> expression\n",
    "\n",
    "6 ------>integer"
   ]
  },
  {
   "cell_type": "markdown",
   "id": "6e21114a-c5db-4cfa-a3d7-eae88cde7e08",
   "metadata": {},
   "source": [
    "# Q2"
   ]
  },
  {
   "cell_type": "raw",
   "id": "304db79d-67ee-447e-b3fd-bc6f2d215784",
   "metadata": {},
   "source": [
    "String is a data type\n",
    "ex -> 'hello'\n",
    "\n",
    "variable is a object that stores value of different data types\n",
    "ex -> a = 1 \n",
    "in the above example a is variable and it is of integer type and is type is known by the valus it holds\n",
    "here as it holds a integer value so it is an integer"
   ]
  },
  {
   "cell_type": "markdown",
   "id": "92ac9c2a-28d3-4acb-97fb-33da23065e54",
   "metadata": {},
   "source": [
    "# Q3"
   ]
  },
  {
   "cell_type": "raw",
   "id": "ccd1cc44-e8c2-4176-b97f-4a2ae56c1862",
   "metadata": {},
   "source": [
    "Three different data types in python are:-\n",
    "\n",
    "1) numeric data type:- int,complez\n",
    "\n",
    "2) string dta type -str\n",
    "\n",
    "3) sequence data type - list tuples range \n",
    "\n",
    "\n",
    "\n",
    "int -- these take integer values (numeric values)\n",
    "\n",
    "complex take value of the form 1+2j\n",
    "\n",
    "\n",
    "string take value the are inside the '' guotes\n",
    "\n",
    "sequence --> these are iteratable objects the value in then are store in a sequenctial manner"
   ]
  },
  {
   "cell_type": "markdown",
   "id": "5d853c2f-c4c0-4fc4-abd6-c481909c7801",
   "metadata": {},
   "source": [
    "# Q4"
   ]
  },
  {
   "cell_type": "raw",
   "id": "12fc4ca4-891a-44d4-90a3-aed43ce44dca",
   "metadata": {},
   "source": [
    "Expression are combinations of different data types and primitive mathematical functions\n",
    "\n",
    "example:-\n",
    "a = 5\n",
    "b = 4\n",
    "\n",
    "c = a + b"
   ]
  },
  {
   "cell_type": "markdown",
   "id": "d7b5782a-0564-4a52-b04a-ea8dad597fab",
   "metadata": {},
   "source": [
    "# Q5"
   ]
  },
  {
   "cell_type": "raw",
   "id": "e456d18d-c4d7-49af-9515-2bb588434d59",
   "metadata": {},
   "source": [
    "spam = 10 is an assignment as spam is storing and integer value 10\n",
    "\n",
    "where as in expression we compute a result usig different assignment"
   ]
  },
  {
   "cell_type": "markdown",
   "id": "bfd01c79-c7cb-4ae3-b8c2-cc3d7f091b7b",
   "metadata": {},
   "source": [
    "# Q6"
   ]
  },
  {
   "cell_type": "code",
   "execution_count": 27,
   "id": "f78d5658-86e3-4fc3-962b-d8a7dfd006ec",
   "metadata": {},
   "outputs": [
    {
     "name": "stdout",
     "output_type": "stream",
     "text": [
      "2 1\n",
      "2 1\n",
      "2 1\n",
      "2 1\n",
      "2 1\n",
      "2 1\n"
     ]
    }
   ],
   "source": [
    "# bacon is still 2 as we are not assigning the incresed value to b \n",
    "# for example\n",
    "b = 1\n",
    "for i in range(0,6):\n",
    "    print((b+1),(b))"
   ]
  },
  {
   "cell_type": "markdown",
   "id": "9ae407cd-3693-41bb-bd17-9f686d01c659",
   "metadata": {},
   "source": [
    "# Q7 "
   ]
  },
  {
   "cell_type": "raw",
   "id": "a9a18d09-9970-43eb-ba5d-300e83baef61",
   "metadata": {},
   "source": [
    "The result of both will be:-\n",
    "\n",
    "'spamspamspamspam'"
   ]
  },
  {
   "cell_type": "markdown",
   "id": "82ea926b-6109-45f4-b03e-37d48600d703",
   "metadata": {},
   "source": [
    "# Q8"
   ]
  },
  {
   "cell_type": "raw",
   "id": "4e4b060a-3856-4ae3-9197-3e5634a48f3b",
   "metadata": {},
   "source": [
    "eggs is in line with the laid rules which in python defin what a valid variable name is while 100 is not\n",
    "\n",
    "logically speaking egg = 10 we see here that we are assigning something here\n",
    "\n",
    "but what does 100 = 10 means we are setting the value of 100 to 10"
   ]
  },
  {
   "cell_type": "markdown",
   "id": "601b1ddb-0bee-4176-87c6-d202ed661b8b",
   "metadata": {},
   "source": [
    "# Q9"
   ]
  },
  {
   "cell_type": "code",
   "execution_count": 20,
   "id": "7a301c82-aef9-4a22-8cfc-e6c0602bbced",
   "metadata": {},
   "outputs": [
    {
     "data": {
      "text/plain": [
       "1"
      ]
     },
     "execution_count": 20,
     "metadata": {},
     "output_type": "execute_result"
    }
   ],
   "source": [
    "int('1')"
   ]
  },
  {
   "cell_type": "code",
   "execution_count": 23,
   "id": "76fa7639-00b5-485e-be91-15d2e906dc65",
   "metadata": {},
   "outputs": [
    {
     "data": {
      "text/plain": [
       "1.0"
      ]
     },
     "execution_count": 23,
     "metadata": {},
     "output_type": "execute_result"
    }
   ],
   "source": [
    "float(1)"
   ]
  },
  {
   "cell_type": "code",
   "execution_count": 25,
   "id": "9cd3a02b-83ba-4bf9-8d89-912ecc750243",
   "metadata": {},
   "outputs": [
    {
     "data": {
      "text/plain": [
       "'1'"
      ]
     },
     "execution_count": 25,
     "metadata": {},
     "output_type": "execute_result"
    }
   ],
   "source": [
    "str(1)"
   ]
  },
  {
   "cell_type": "markdown",
   "id": "8849e4dd-967e-49d6-9024-f67e60b7d29d",
   "metadata": {},
   "source": [
    "# Q10"
   ]
  },
  {
   "cell_type": "raw",
   "id": "16e827a2-2b6d-47d2-bc0f-d60d105aa7b0",
   "metadata": {},
   "source": [
    "'I have eaten' + '99' + 'burritos.'"
   ]
  }
 ],
 "metadata": {
  "kernelspec": {
   "display_name": "Python 3 (ipykernel)",
   "language": "python",
   "name": "python3"
  },
  "language_info": {
   "codemirror_mode": {
    "name": "ipython",
    "version": 3
   },
   "file_extension": ".py",
   "mimetype": "text/x-python",
   "name": "python",
   "nbconvert_exporter": "python",
   "pygments_lexer": "ipython3",
   "version": "3.10.6"
  }
 },
 "nbformat": 4,
 "nbformat_minor": 5
}
