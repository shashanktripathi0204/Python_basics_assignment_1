{
 "cells": [
  {
   "cell_type": "markdown",
   "id": "23fbb160-7a59-4dda-ad45-f12de94cec03",
   "metadata": {},
   "source": [
    "# Q1"
   ]
  },
  {
   "cell_type": "code",
   "execution_count": 1,
   "id": "f616861c-38fe-494b-9260-7927f90ad8c0",
   "metadata": {},
   "outputs": [],
   "source": [
    "class BankAccount:\n",
    "    def __init__(self,name,amount,interest_rate):\n",
    "        self.name = name\n",
    "        self.amount = amount\n",
    "        self.interest_rate = interest_rate\n",
    "    \n",
    "    def apply_interest(self):\n",
    "        self.amount = (self.amount*self.interest_rate)/100 + self.amount\n",
    "        \n",
    "    "
   ]
  },
  {
   "cell_type": "code",
   "execution_count": 2,
   "id": "ed2de57e-b2ab-4a88-83b3-948635532e76",
   "metadata": {},
   "outputs": [],
   "source": [
    "account_holder = BankAccount('Juan De Hattatime',1000,3)"
   ]
  },
  {
   "cell_type": "code",
   "execution_count": 3,
   "id": "05ab8dc7-6ed1-4f26-adf3-9fe7ec673d42",
   "metadata": {},
   "outputs": [],
   "source": [
    "account_holder.apply_interest()"
   ]
  },
  {
   "cell_type": "code",
   "execution_count": 4,
   "id": "48b9db7f-3e92-4ed7-9a3d-a5f22e6040df",
   "metadata": {},
   "outputs": [
    {
     "data": {
      "text/plain": [
       "1030.0"
      ]
     },
     "execution_count": 4,
     "metadata": {},
     "output_type": "execute_result"
    }
   ],
   "source": [
    "account_holder.amount"
   ]
  },
  {
   "cell_type": "code",
   "execution_count": 5,
   "id": "4f888709-1bc3-4f57-b0a2-2cd22db14154",
   "metadata": {},
   "outputs": [],
   "source": [
    "account_holder.interest_rate = 2"
   ]
  },
  {
   "cell_type": "code",
   "execution_count": 6,
   "id": "46202658-8fc9-4365-8267-9354ee93f5dc",
   "metadata": {},
   "outputs": [],
   "source": [
    "account_holder.apply_interest()"
   ]
  },
  {
   "cell_type": "code",
   "execution_count": 7,
   "id": "878f9f3d-00d7-42fc-aad1-5ff9f196b3a3",
   "metadata": {},
   "outputs": [
    {
     "data": {
      "text/plain": [
       "1050.6"
      ]
     },
     "execution_count": 7,
     "metadata": {},
     "output_type": "execute_result"
    }
   ],
   "source": [
    "account_holder.amount"
   ]
  },
  {
   "cell_type": "markdown",
   "id": "039de027-e58b-48f2-92f5-d5eb8ed8610b",
   "metadata": {},
   "source": [
    "# Q2"
   ]
  },
  {
   "cell_type": "code",
   "execution_count": 8,
   "id": "e4db1b9e-b55a-4349-8ea7-ff2a88bd0cc9",
   "metadata": {},
   "outputs": [],
   "source": [
    "class Item:\n",
    "    def __init__(self,name,price):\n",
    "        self.name = name\n",
    "        self.price = price\n",
    "    def __str__(self):\n",
    "        return (f\"Price of {self.name} is \"+\"%.2f\" %self.price)"
   ]
  },
  {
   "cell_type": "code",
   "execution_count": 9,
   "id": "9869395a-def3-4a30-9e94-5d70ad72bd4f",
   "metadata": {},
   "outputs": [
    {
     "name": "stdout",
     "output_type": "stream",
     "text": [
      "Price of Uncle Chips is 10.99\n"
     ]
    }
   ],
   "source": [
    "chips = Item('Uncle Chips' , 10.9892)\n",
    "\n",
    "print(chips)"
   ]
  },
  {
   "cell_type": "markdown",
   "id": "af84adde-257c-403c-8678-6a1fddde4470",
   "metadata": {},
   "source": [
    "# Q3"
   ]
  },
  {
   "cell_type": "code",
   "execution_count": 10,
   "id": "8cc4edd6-2e9c-4927-ade3-e496a91b2cb1",
   "metadata": {},
   "outputs": [],
   "source": [
    "class ShoppingCart:\n",
    "    def __init__(self):\n",
    "        self.item = []\n",
    "    def add(self,name,price):\n",
    "        self.item.append((name,price))\n",
    "    def total(self):\n",
    "        total_cost = 0\n",
    "        for i in range(len(self.item)):\n",
    "            total_cost += self.item[i][1]\n",
    "        return total_cost\n",
    "    def remove_items(self,rname):\n",
    "        try:\n",
    "            for i in range(len(self.item)):\n",
    "                if rname == self.item[i][0]:\n",
    "                    self.item.pop(i)\n",
    "                    break\n",
    "        except Exception as e:\n",
    "            pass\n",
    "    def __str__(self):\n",
    "        result = \"\"\n",
    "        for i in range(len(self.item)):\n",
    "            result = result + str(self.item[i][0]) +\",\"+ str(self.item[i][1])+\" | \"\n",
    "        return result"
   ]
  },
  {
   "cell_type": "code",
   "execution_count": 11,
   "id": "b6c6ad7c-e19e-4c11-9fae-1d8a44c1cab7",
   "metadata": {},
   "outputs": [],
   "source": [
    "cart = ShoppingCart()"
   ]
  },
  {
   "cell_type": "code",
   "execution_count": 12,
   "id": "baef311b-fe54-4915-be4d-87c5605e83f9",
   "metadata": {},
   "outputs": [],
   "source": [
    "cart.add('chocolate',12)\n",
    "cart.add('chips',10)\n",
    "cart.add('milk',20)\n",
    "cart.add('detergent',60)\n",
    "cart.add('paints',200)\n",
    "cart.add('clothes',1000)\n",
    "cart.add('movie',700)\n",
    "cart.add('cake',400)\n",
    "cart.add('glasses',2500)"
   ]
  },
  {
   "cell_type": "code",
   "execution_count": 13,
   "id": "98cce1c2-3e20-4bb0-89fa-ae35d9af5a05",
   "metadata": {},
   "outputs": [
    {
     "name": "stdout",
     "output_type": "stream",
     "text": [
      "chocolate,12 | chips,10 | milk,20 | detergent,60 | paints,200 | clothes,1000 | movie,700 | cake,400 | glasses,2500 | \n"
     ]
    }
   ],
   "source": [
    "print(cart)\n"
   ]
  },
  {
   "cell_type": "code",
   "execution_count": 14,
   "id": "fad37879-d8ce-49d3-8f2d-320b63a9d235",
   "metadata": {},
   "outputs": [
    {
     "data": {
      "text/plain": [
       "4902"
      ]
     },
     "execution_count": 14,
     "metadata": {},
     "output_type": "execute_result"
    }
   ],
   "source": [
    "cart.total()"
   ]
  },
  {
   "cell_type": "code",
   "execution_count": 15,
   "id": "428b8ad9-4af3-42b6-966a-24d79d9ce993",
   "metadata": {},
   "outputs": [],
   "source": [
    "cart.remove_items('paints')"
   ]
  },
  {
   "cell_type": "code",
   "execution_count": 16,
   "id": "37294241-75cd-42b4-ab37-bff3b15a0b47",
   "metadata": {},
   "outputs": [],
   "source": [
    "cart.remove_items('cake')"
   ]
  },
  {
   "cell_type": "code",
   "execution_count": 17,
   "id": "5e071889-9b08-43bb-9a9d-d664a3dd7dda",
   "metadata": {},
   "outputs": [],
   "source": [
    "cart.remove_items('glasses')"
   ]
  },
  {
   "cell_type": "code",
   "execution_count": 18,
   "id": "d9cb3658-4639-467b-a299-b2215ba1bfb8",
   "metadata": {},
   "outputs": [],
   "source": [
    "cart.remove_items('car')"
   ]
  },
  {
   "cell_type": "code",
   "execution_count": 19,
   "id": "a442017c-295c-4410-a7d9-20df0aed2a4f",
   "metadata": {},
   "outputs": [
    {
     "name": "stdout",
     "output_type": "stream",
     "text": [
      "chocolate,12 | chips,10 | milk,20 | detergent,60 | clothes,1000 | movie,700 | \n"
     ]
    }
   ],
   "source": [
    "print(cart)"
   ]
  },
  {
   "cell_type": "markdown",
   "id": "6ed4dfd2-ebc3-4d1c-a2ef-0aab76e61f48",
   "metadata": {},
   "source": [
    "# Q4"
   ]
  },
  {
   "cell_type": "code",
   "execution_count": 20,
   "id": "3c52659b-239a-41e8-834c-24892863d463",
   "metadata": {},
   "outputs": [],
   "source": [
    "class RestrauntCheck:\n",
    "    def __init__(self,check_number,sales_tax_percent,subtotal,table_number,server_name):\n",
    "        self.check_number = check_number\n",
    "        self.sales_tax_percent = sales_tax_percent\n",
    "        self.subtotal = subtotal\n",
    "        self.table_number = table_number\n",
    "        self.server_name = server_name\n",
    "    def calculate_total(self):\n",
    "        total = 0\n",
    "        total = (self.subtotal * self.sales_tax_percent)/100 + self.subtotal\n",
    "        return total\n",
    "    def print_check(self):\n",
    "        try:\n",
    "            file_name = 'check' + str(self.check_number)\n",
    "            f = open(file_name,'w')\n",
    "            f.write(f\"\"\"Check Number : {self.check_number} \\nSales tax : {self.sales_tax_percent}% \\nSubtotal : {self.subtotal} \\nTotal : {self.calculate_total()} \\nTable Number : {self.table_number} \\nServer : {self.server_name}\n",
    "            \"\"\")\n",
    "        except Exception as e:\n",
    "            pass\n",
    "        finally:\n",
    "            f.close()\n",
    "        \n",
    "        "
   ]
  },
  {
   "cell_type": "code",
   "execution_count": 21,
   "id": "3d078901-3ffe-4503-9708-d89e38bf10d7",
   "metadata": {},
   "outputs": [],
   "source": [
    "sha = RestrauntCheck(198,20,30000,42,'Sonic')"
   ]
  },
  {
   "cell_type": "code",
   "execution_count": 22,
   "id": "fe0b58ff-ecc5-4738-956b-6c809303eee8",
   "metadata": {},
   "outputs": [],
   "source": [
    "sha.print_check()"
   ]
  },
  {
   "cell_type": "markdown",
   "id": "f24a0568-7899-41b6-a01e-363f85df3eaa",
   "metadata": {},
   "source": [
    "# Q5"
   ]
  },
  {
   "cell_type": "code",
   "execution_count": 23,
   "id": "a6bffba3-5e2f-4064-9271-aaf1c68c47f9",
   "metadata": {},
   "outputs": [],
   "source": [
    "class Ticket:\n",
    "    def __init__(self,cost,time):\n",
    "        self.cost = cost\n",
    "        self.time = time\n",
    "    def is_evening_time(self):\n",
    "        if (int(self.time[0:2]) >18 ):\n",
    "            return True\n",
    "        else:\n",
    "            return False\n",
    "    def bulk_discount(self,n):\n",
    "        if n>5 and n<9:\n",
    "            self.cost = self.cost - (self.cost * 10)/100\n",
    "        elif n>=10:\n",
    "            self.cost = self.cost - (self.cost * 20)/100\n",
    "        else:\n",
    "            pass\n",
    "    def __str__(self):\n",
    "        return f\"Ticket({self.cost},{self.time})\""
   ]
  },
  {
   "cell_type": "code",
   "execution_count": 24,
   "id": "38709dd4-01a3-46cc-b909-6d308d9f54cb",
   "metadata": {},
   "outputs": [],
   "source": [
    "eminem = Ticket(80000,'17:59')"
   ]
  },
  {
   "cell_type": "code",
   "execution_count": 25,
   "id": "5e4c721b-d341-4694-b633-e2faecafcd32",
   "metadata": {},
   "outputs": [],
   "source": [
    "eminem.bulk_discount(20)"
   ]
  },
  {
   "cell_type": "code",
   "execution_count": 26,
   "id": "9e20e73a-9ba7-4e08-9e2a-0e5eb958b720",
   "metadata": {},
   "outputs": [
    {
     "name": "stdout",
     "output_type": "stream",
     "text": [
      "Ticket(64000.0,17:59)\n"
     ]
    }
   ],
   "source": [
    "print(eminem)"
   ]
  },
  {
   "cell_type": "code",
   "execution_count": 27,
   "id": "3aa05335-cec7-483a-80ad-fe0b296a5d49",
   "metadata": {},
   "outputs": [
    {
     "data": {
      "text/plain": [
       "False"
      ]
     },
     "execution_count": 27,
     "metadata": {},
     "output_type": "execute_result"
    }
   ],
   "source": [
    "eminem.is_evening_time()"
   ]
  },
  {
   "cell_type": "code",
   "execution_count": null,
   "id": "97ff095d-f2df-4a19-8af2-00c17b68d4ed",
   "metadata": {},
   "outputs": [],
   "source": []
  },
  {
   "cell_type": "code",
   "execution_count": null,
   "id": "6c372e39-31ce-40b7-bc55-bbca8d74130d",
   "metadata": {},
   "outputs": [],
   "source": []
  },
  {
   "cell_type": "code",
   "execution_count": null,
   "id": "ec8df0c1-3ed2-4341-95b8-901e938a5447",
   "metadata": {},
   "outputs": [],
   "source": []
  },
  {
   "cell_type": "code",
   "execution_count": null,
   "id": "1a83833e-f7f3-45dd-98e4-72df200ca0e0",
   "metadata": {},
   "outputs": [],
   "source": []
  },
  {
   "cell_type": "code",
   "execution_count": null,
   "id": "98443611-bc61-4208-8b29-421c9f103fed",
   "metadata": {},
   "outputs": [],
   "source": []
  },
  {
   "cell_type": "code",
   "execution_count": null,
   "id": "348e735c-622b-42a4-9a33-eced6bdce01c",
   "metadata": {},
   "outputs": [],
   "source": []
  },
  {
   "cell_type": "code",
   "execution_count": null,
   "id": "05bcbec2-8054-46e0-a6a5-185b4867906a",
   "metadata": {},
   "outputs": [],
   "source": []
  }
 ],
 "metadata": {
  "kernelspec": {
   "display_name": "Python 3 (ipykernel)",
   "language": "python",
   "name": "python3"
  },
  "language_info": {
   "codemirror_mode": {
    "name": "ipython",
    "version": 3
   },
   "file_extension": ".py",
   "mimetype": "text/x-python",
   "name": "python",
   "nbconvert_exporter": "python",
   "pygments_lexer": "ipython3",
   "version": "3.10.6"
  }
 },
 "nbformat": 4,
 "nbformat_minor": 5
}
